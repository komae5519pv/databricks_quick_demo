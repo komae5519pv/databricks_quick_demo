{
 "cells": [
  {
   "cell_type": "markdown",
   "metadata": {
    "application/vnd.databricks.v1+cell": {
     "cellMetadata": {},
     "inputWidgets": {},
     "nuid": "325421ee-4c43-43e9-bd4f-96f0780d3703",
     "showTitle": false,
     "tableResultSettingsMap": {},
     "title": ""
    }
   },
   "source": [
    "\n",
    "## playgroundでMCPサーバーを活用した Genie Spaceエージェントを試します\n",
    "\n",
    "#### システムプロンプト\n",
    "```\n",
    "あなたはスーパーBricksマートの売り上げ分析を行うエージェントです。質問に対して日本語で回答してください。\n",
    "必要に応じてツールを利用してデータを取得して、回答してください。\n",
    "一つの質問回答に対して、ツールの利用は3回以内にしてください。\n",
    "事実か仮説かは明確にしてください。\n",
    "```\n",
    "\n",
    "#### ユーザープロンプト\n",
    "1. `先月の最も売り上げが高かった商品の傾向は？`\n",
    "1. `先月の最も売り上げが低かった店舗はどこ？その要因も考えて`\n",
    "1. `ユーザーレビューで特にネガティブだった要素は？`"
   ]
  }
 ],
 "metadata": {
  "application/vnd.databricks.v1+notebook": {
   "computePreferences": null,
   "dashboards": [],
   "environmentMetadata": {
    "base_environment": "",
    "environment_version": "3"
   },
   "inputWidgetPreferences": null,
   "language": "python",
   "notebookMetadata": {
    "pythonIndentUnit": 2
   },
   "notebookName": "03_PlaygroundでGenieエージェントを呼ぶ",
   "widgets": {}
  },
  "language_info": {
   "name": "python"
  }
 },
 "nbformat": 4,
 "nbformat_minor": 0
}
