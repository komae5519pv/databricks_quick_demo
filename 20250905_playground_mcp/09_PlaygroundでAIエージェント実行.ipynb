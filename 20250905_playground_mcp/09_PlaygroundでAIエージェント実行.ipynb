{
 "cells": [
  {
   "cell_type": "markdown",
   "metadata": {
    "application/vnd.databricks.v1+cell": {
     "cellMetadata": {},
     "inputWidgets": {},
     "nuid": "325421ee-4c43-43e9-bd4f-96f0780d3703",
     "showTitle": false,
     "tableResultSettingsMap": {},
     "title": ""
    }
   },
   "source": [
    "# PlaygroundでAIエージェントを実行"
   ]
  },
  {
   "cell_type": "markdown",
   "metadata": {
    "application/vnd.databricks.v1+cell": {
     "cellMetadata": {},
     "inputWidgets": {},
     "nuid": "1da2e22e-f44e-4016-bca1-0a02a7206509",
     "showTitle": false,
     "tableResultSettingsMap": {},
     "title": ""
    }
   },
   "source": [
    "## Playground における AIエージェント の初期設定\n",
    "Playgroundへ移動します。\n",
    "\n",
    "#### ツール\n",
    "- ツールを追加: `MCP Servers`\n",
    "  - Vector Search: `<カタログ>.bricksmart`\n",
    "  - Genie Space: `小売スーパー売り上げ分析`\n",
    "  - Unity Catalog Function: `<カタログ>.bricksmart` (Option)\n",
    "\n",
    "#### システムプロンプト\n",
    "```\n",
    "あなたはスーパーBricksマートの売り上げ分析を行うエージェントです。質問に対して日本語で回答してください。\n",
    "必要に応じてツールを利用してデータを取得して、簡潔に回答してください。\n",
    "1つの質問回答に対して、ツールの利用は3回以内にしてください。\n",
    "データに基づく場合はその旨を、仮説の場合はその旨を明確に明記にしてください。\n",
    "```\n",
    "\n",
    "英語の方が精度は上がりやすい\n",
    "```\n",
    "You are an agent that performs sales analysis for the supermarket Bricks Mart. Please respond to questions in Japanese.\n",
    "Use tools as needed to retrieve data, and provide concise answers.\n",
    "Limit tool usage to a maximum of three times per question.\n",
    "Always answer based on facts. If data cannot be retrieved, respond with: \"データが取得できないため回答できません\".\n",
    "```\n",
    "\n",
    "#### 入力例（ユーザープロンプト）\n",
    "- RAG\n",
    "  - `フィードバックで良い評価と悪い評価で顕著な内容を教えて`\n",
    "- Genie\n",
    "  - `先月の最も売れなかった店舗はどこ？その要因も考えて`\n",
    "  - `先月の最も売れた商品は？`\n",
    "  - `それは全店舗合計の金額ですか？`\n",
    "- UC関数\n",
    "  - `一番繁盛しているお店で一番人気の商品の在庫状況を教えて` (Option)"
   ]
  }
 ],
 "metadata": {
  "application/vnd.databricks.v1+notebook": {
   "computePreferences": null,
   "dashboards": [],
   "environmentMetadata": {
    "base_environment": "",
    "environment_version": "3"
   },
   "inputWidgetPreferences": null,
   "language": "python",
   "notebookMetadata": {
    "pythonIndentUnit": 2
   },
   "notebookName": "09_PlaygroundでAIエージェント実行",
   "widgets": {}
  },
  "language_info": {
   "name": "python"
  }
 },
 "nbformat": 4,
 "nbformat_minor": 0
}
