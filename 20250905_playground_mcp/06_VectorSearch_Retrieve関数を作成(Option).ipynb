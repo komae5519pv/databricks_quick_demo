{
 "cells": [
  {
   "cell_type": "markdown",
   "metadata": {
    "application/vnd.databricks.v1+cell": {
     "cellMetadata": {},
     "inputWidgets": {},
     "nuid": "813ff527-faff-4b07-91ab-2bec5d0a17e4",
     "showTitle": false,
     "tableResultSettingsMap": {},
     "title": ""
    }
   },
   "source": [
    "### Vector Search を行う関数`manual_retriever`をカタログへ登録する\n",
    "[ドキュメント](https://docs.databricks.com/aws/ja/generative-ai/agent-framework/unstructured-retrieval-tools#unity-catalog%E6%A9%9F%E8%83%BD%E3%82%92%E6%8C%81%E3%81%A4%E3%83%99%E3%82%AF%E3%83%88%E3%83%AB%E6%A4%9C%E7%B4%A2%E3%83%AC%E3%83%88%E3%83%AA%E3%83%BC%E3%83%90%E3%83%BC%E3%83%84%E3%83%BC%E3%83%AB)  を参考にカタログへベクトル検索関数を登録しましょう"
   ]
  },
  {
   "cell_type": "code",
   "execution_count": 0,
   "metadata": {
    "application/vnd.databricks.v1+cell": {
     "cellMetadata": {
      "byteLimit": 2048000,
      "rowLimit": 10000
     },
     "inputWidgets": {},
     "nuid": "1158e40a-a05c-4ac5-80c8-568f0837aa85",
     "showTitle": false,
     "tableResultSettingsMap": {},
     "title": ""
    }
   },
   "outputs": [],
   "source": [
    "%pip install -U databricks-vectorsearch databricks-langchain\n",
    "dbutils.library.restartPython()"
   ]
  },
  {
   "cell_type": "code",
   "execution_count": 0,
   "metadata": {
    "application/vnd.databricks.v1+cell": {
     "cellMetadata": {
      "byteLimit": 2048000,
      "rowLimit": 10000
     },
     "inputWidgets": {},
     "nuid": "bb572e88-060c-4901-966f-8bf28e8c81f7",
     "showTitle": false,
     "tableResultSettingsMap": {},
     "title": ""
    }
   },
   "outputs": [],
   "source": [
    "%run ./00_config"
   ]
  },
  {
   "cell_type": "markdown",
   "metadata": {
    "application/vnd.databricks.v1+cell": {
     "cellMetadata": {
      "byteLimit": 2048000,
      "rowLimit": 10000
     },
     "inputWidgets": {},
     "nuid": "61e9de7a-5cfd-46f1-808c-29915ca9ba98",
     "showTitle": false,
     "tableResultSettingsMap": {},
     "title": ""
    }
   },
   "source": [
    "### 1. Vector Search を行う関数`manual_retriever`をUCカタログに登録"
   ]
  },
  {
   "cell_type": "code",
   "execution_count": 0,
   "metadata": {
    "application/vnd.databricks.v1+cell": {
     "cellMetadata": {
      "byteLimit": 2048000,
      "rowLimit": 10000
     },
     "inputWidgets": {},
     "nuid": "1768e278-08ad-4c28-8a28-3bbd597c2194",
     "showTitle": false,
     "tableResultSettingsMap": {},
     "title": ""
    }
   },
   "outputs": [],
   "source": [
    "create_func = f\"\"\"\n",
    "CREATE OR REPLACE FUNCTION {catalog}.{schema}.manual_retriever (\n",
    "  query STRING\n",
    "  COMMENT 'スーパーBricksマートに対するお客様フィードバックを検索するためのクエリ文字列'\n",
    ") RETURNS TABLE\n",
    "COMMENT '与えられたクエリに最も関連するテキストを取得する、スーパーBricksマートのお客様フィードバックを返す関数です'\n",
    "LANGUAGE SQL\n",
    "  RETURN\n",
    "  SELECT\n",
    "    chunk,\n",
    "    map(\n",
    "      'feedback_id', CAST(feedback_id AS STRING),\n",
    "      'user_id', CAST(user_id AS STRING),\n",
    "      'product_id', CAST(product_id AS STRING),\n",
    "      'rating', CAST(rating AS STRING),\n",
    "      'date', CAST(date AS STRING),\n",
    "      'category', CAST(category AS STRING),\n",
    "      'positive_score', CAST(positive_score AS STRING),\n",
    "      'summary', CAST(summary AS STRING)\n",
    "    ) AS metadata\n",
    "  FROM\n",
    "    VECTOR_SEARCH (\n",
    "      index => '{catalog}.{schema}.gold_feedbacks_index',\n",
    "      query => query,\n",
    "      num_results => 3\n",
    "    )\n",
    "\"\"\"\n",
    "\n",
    "# print(create_func)\n",
    "spark.sql(create_func)"
   ]
  },
  {
   "cell_type": "markdown",
   "metadata": {
    "application/vnd.databricks.v1+cell": {
     "cellMetadata": {
      "byteLimit": 2048000,
      "rowLimit": 10000
     },
     "inputWidgets": {},
     "nuid": "5d45cae0-62a9-4907-938e-e779b2bf05c4",
     "showTitle": false,
     "tableResultSettingsMap": {},
     "title": ""
    }
   },
   "source": [
    "### 2. UCカタログに登録した関数をUCFunctionToolkitでラップ\n",
    "この取得ツールを AI エージェントで使用するには、 UCFunctionToolkitでラップします。<br>\n",
    "これにより、MLflow ログに RETRIEVER スパンの種類を自動的に生成することで、MLflow による自動トレースが可能になります。<br>\n",
    "[参考](https://docs.databricks.com/aws/ja/generative-ai/agent-framework/unstructured-retrieval-tools#unity-catalog%E6%A9%9F%E8%83%BD%E3%82%92%E6%8C%81%E3%81%A4%E3%83%99%E3%82%AF%E3%83%88%E3%83%AB%E6%A4%9C%E7%B4%A2%E3%83%AC%E3%83%88%E3%83%AA%E3%83%BC%E3%83%90%E3%83%BC%E3%83%84%E3%83%BC%E3%83%AB)"
   ]
  },
  {
   "cell_type": "code",
   "execution_count": 0,
   "metadata": {
    "application/vnd.databricks.v1+cell": {
     "cellMetadata": {
      "byteLimit": 2048000,
      "rowLimit": 10000
     },
     "inputWidgets": {},
     "nuid": "2c4ade95-363e-4612-9c61-1c72250c8820",
     "showTitle": false,
     "tableResultSettingsMap": {},
     "title": ""
    }
   },
   "outputs": [],
   "source": [
    "import mlflow\n",
    "from databricks_langchain import VectorSearchRetrieverTool\n",
    "\n",
    "vs_tool = VectorSearchRetrieverTool(\n",
    "  index_name=f\"{catalog}.{schema}.gold_feedbacks_index\",\n",
    "  tool_name=\"manual_retriever\",\n",
    "  tool_description=\"スーパーBricksマートのお客様フィードバックを検索するツールです\",\n",
    "  columns=[\"chunk_id\", \"feedback_id\", \"user_id\", \"product_id\", \"rating\",\n",
    "           \"date\", \"category\", \"positive_score\", \"summary\", \"chunk\"],\n",
    "  num_results=3     # 1件だけ返却\n",
    ")\n",
    "\n",
    "vs_tool.invoke(\"店舗設備に関するフィードバックを教えてください\")"
   ]
  }
 ],
 "metadata": {
  "application/vnd.databricks.v1+notebook": {
   "computePreferences": {
    "hardware": {
     "accelerator": null,
     "gpuPoolId": null,
     "memory": null
    }
   },
   "dashboards": [],
   "environmentMetadata": {
    "base_environment": "",
    "environment_version": "2"
   },
   "inputWidgetPreferences": null,
   "language": "python",
   "notebookMetadata": {
    "pythonIndentUnit": 2
   },
   "notebookName": "06_VectorSearch_Retrieve関数を作成(Option)",
   "widgets": {}
  },
  "language_info": {
   "name": "python"
  }
 },
 "nbformat": 4,
 "nbformat_minor": 0
}
