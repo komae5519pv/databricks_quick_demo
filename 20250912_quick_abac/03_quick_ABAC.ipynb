{
 "cells": [
  {
   "cell_type": "markdown",
   "metadata": {
    "application/vnd.databricks.v1+cell": {
     "cellMetadata": {
      "byteLimit": 2048000,
      "rowLimit": 10000
     },
     "inputWidgets": {},
     "nuid": "a67c853e-8855-4bd9-a50a-8b1c1b28fb22",
     "showTitle": false,
     "tableResultSettingsMap": {},
     "title": ""
    }
   },
   "source": [
    "# DatabricksのABAC実装方法\n",
    "[属性ベースのアクセス制御（ABAC）](https://techblog.ap-com.co.jp/entry/2025/08/18/142244)<br>\n",
    "サーバレスコンピュートをお使いください"
   ]
  },
  {
   "cell_type": "code",
   "execution_count": 0,
   "metadata": {
    "application/vnd.databricks.v1+cell": {
     "cellMetadata": {
      "byteLimit": 2048000,
      "rowLimit": 10000
     },
     "inputWidgets": {},
     "nuid": "fcc0bbb9-7470-4218-a30d-b872a41bfb27",
     "showTitle": false,
     "tableResultSettingsMap": {},
     "title": ""
    }
   },
   "outputs": [],
   "source": [
    "%run ./00_config"
   ]
  },
  {
   "cell_type": "markdown",
   "metadata": {
    "application/vnd.databricks.v1+cell": {
     "cellMetadata": {
      "byteLimit": 2048000,
      "rowLimit": 10000
     },
     "inputWidgets": {},
     "nuid": "0b739f19-b866-4b58-b5dc-33fc19e6822a",
     "showTitle": false,
     "tableResultSettingsMap": {},
     "title": ""
    }
   },
   "source": [
    "### 1. データ読込み"
   ]
  },
  {
   "cell_type": "markdown",
   "metadata": {
    "application/vnd.databricks.v1+cell": {
     "cellMetadata": {
      "byteLimit": 2048000,
      "rowLimit": 10000
     },
     "inputWidgets": {},
     "nuid": "8f044fba-23b8-44a5-ac55-70551900e900",
     "showTitle": false,
     "tableResultSettingsMap": {},
     "title": ""
    }
   },
   "source": [
    "`/Volumes/{MY_CATALOG}/{MY_SCHEMA}/{MY_VOLUME}/daily_weather_tokyo.csv`から<br>\n",
    "read_filesを利用してcsvを読み込んで表示する。ただし、_rescued_dataは除外する。1行目は列名。"
   ]
  },
  {
   "cell_type": "code",
   "execution_count": 0,
   "metadata": {
    "application/vnd.databricks.v1+cell": {
     "cellMetadata": {
      "byteLimit": 2048000,
      "rowLimit": 10000
     },
     "inputWidgets": {},
     "nuid": "fd2f077e-c0f7-40d8-8777-d09b533b3d52",
     "showTitle": false,
     "tableResultSettingsMap": {},
     "title": ""
    },
    "jupyter": {
     "source_hidden": true
    }
   },
   "outputs": [],
   "source": [
    "# # 従業員プロファイルテーブルを作成\n",
    "# spark.sql(f\"\"\"\n",
    "# CREATE TABLE IF NOT EXISTS employees (\n",
    "#     employee_id INT,\n",
    "#     name STRING,\n",
    "#     email STRING,\n",
    "#     department STRING,\n",
    "#     salary DOUBLE,\n",
    "#     region STRING\n",
    "# )\n",
    "# USING DELTA;\n",
    "# \"\"\")\n",
    "\n",
    "# # データを挿入\n",
    "# spark.sql(f\"\"\"\n",
    "# INSERT INTO employees (employee_id, name, email, department, salary, region)\n",
    "# VALUES\n",
    "# (1, 'Alice Johnson', 'alice.j@example.com', 'Sales', 75000.00, 'APAC'),\n",
    "# (2, 'Bob Williams', 'bob.w@example.com', 'Marketing', 68000.00, 'EMEA'),\n",
    "# (3, 'Charlie Brown', 'charlie.b@example.com', 'Engineering', 92000.00, 'Americas'),\n",
    "# (4, 'Diana Prince', 'diana.p@example.com', 'HR', 60000.00, 'APAC'),\n",
    "# (5, 'Eve Davis', 'eve.d@example.com', 'Finance', 80000.00, 'EMEA'),\n",
    "# (6, 'Frank White', 'frank.w@example.com', 'Sales', 70000.00, 'Americas'),\n",
    "# (7, 'Grace Lee', 'grace.l@example.com', 'Engineering', 95000.00, 'APAC'),\n",
    "# (8, 'Henry Kim', 'henry.k@example.com', 'Marketing', 65000.00, 'EMEA'),\n",
    "# (9, 'Ivy Chen', 'ivy.c@example.com', 'HR', 58000.00, 'Americas'),\n",
    "# (10, 'Jack Green', 'jack.g@example.com', 'Finance', 82000.00, 'APAC');\n",
    "# \"\"\")\n",
    "\n",
    "# # ---------- CSV 出力 ----------\n",
    "# out_path = f\"/Volumes/{MY_CATALOG}/{MY_SCHEMA}/{MY_VOLUME}/employees.csv\"\n",
    "# spark.table(\"employees\").coalesce(1).toPandas().to_csv(out_path, index=False)\n",
    "# print(out_path)"
   ]
  },
  {
   "cell_type": "code",
   "execution_count": 0,
   "metadata": {
    "application/vnd.databricks.v1+cell": {
     "cellMetadata": {
      "byteLimit": 2048000,
      "rowLimit": 10000
     },
     "inputWidgets": {},
     "nuid": "25e0909a-b551-4cb1-b905-40dd201aed24",
     "showTitle": false,
     "tableResultSettingsMap": {},
     "title": ""
    }
   },
   "outputs": [],
   "source": [
    "spark.sql(f\"\"\"\n",
    "CREATE TABLE IF NOT EXISTS {MY_CATALOG}.{MY_SCHEMA}.employees\n",
    "SELECT *\n",
    "EXCEPT (_rescued_data)\n",
    "FROM read_files(\n",
    "  '/Volumes/{MY_CATALOG}/{MY_SCHEMA}/{MY_VOLUME}/employees.csv',\n",
    "  format => 'csv',\n",
    "  header => 'true'\n",
    ")\n",
    ";\n",
    "\"\"\")\n",
    "\n",
    "display(spark.table(\"employees\"))"
   ]
  },
  {
   "cell_type": "code",
   "execution_count": 0,
   "metadata": {
    "application/vnd.databricks.v1+cell": {
     "cellMetadata": {
      "byteLimit": 2048000,
      "rowLimit": 10000
     },
     "inputWidgets": {},
     "nuid": "64373ac4-bf94-4123-8489-fff6d35ffdb8",
     "showTitle": false,
     "tableResultSettingsMap": {},
     "title": ""
    }
   },
   "outputs": [],
   "source": [
    "# spark.sql(f\"\"\"\n",
    "# drop table if exists employees\n",
    "# \"\"\")"
   ]
  },
  {
   "cell_type": "markdown",
   "metadata": {
    "application/vnd.databricks.v1+cell": {
     "cellMetadata": {},
     "inputWidgets": {},
     "nuid": "2920c5d5-7387-4341-8ccc-a4b7740af341",
     "showTitle": false,
     "tableResultSettingsMap": {},
     "title": ""
    }
   },
   "source": [
    "### 2. 管理タグ作成\n",
    "カタログ -> 管理タグ \n",
    "\n",
    "<img src='https://github.com/komae5519pv/databricks_quick_demo/blob/main/20250912_quick_abac/images/%E7%AE%A1%E7%90%86%E3%82%BF%E3%82%AF%E3%82%99%E4%BD%9C%E6%88%90.gif?raw=true' width='88%'/>\n"
   ]
  },
  {
   "cell_type": "markdown",
   "metadata": {
    "application/vnd.databricks.v1+cell": {
     "cellMetadata": {
      "byteLimit": 2048000,
      "rowLimit": 10000
     },
     "inputWidgets": {},
     "nuid": "8b2564ef-4c83-4dd0-8476-2a1149daa542",
     "showTitle": false,
     "tableResultSettingsMap": {},
     "title": ""
    }
   },
   "source": [
    "### 3. 列へのタグ設定"
   ]
  },
  {
   "cell_type": "code",
   "execution_count": 0,
   "metadata": {
    "application/vnd.databricks.v1+cell": {
     "cellMetadata": {
      "byteLimit": 2048000,
      "rowLimit": 10000
     },
     "inputWidgets": {},
     "nuid": "92a2a7be-30fd-477e-8df0-778f6901ad85",
     "showTitle": true,
     "tableResultSettingsMap": {},
     "title": "email"
    }
   },
   "outputs": [],
   "source": [
    "# 'region' 列にアクセス制限タグを設定\n",
    "spark.sql(f\"\"\"\n",
    "ALTER TABLE {MY_CATALOG}.{MY_SCHEMA}.employees\n",
    "ALTER COLUMN email SET TAGS ('my_tags' = 'pii_email')\n",
    "\"\"\")"
   ]
  },
  {
   "cell_type": "code",
   "execution_count": 0,
   "metadata": {
    "application/vnd.databricks.v1+cell": {
     "cellMetadata": {
      "byteLimit": 2048000,
      "rowLimit": 10000
     },
     "inputWidgets": {},
     "nuid": "485fba8c-c7af-4a69-b6d8-8f1682369648",
     "showTitle": true,
     "tableResultSettingsMap": {},
     "title": "salary"
    }
   },
   "outputs": [],
   "source": [
    "# 'region' 列にアクセス制限タグを設定\n",
    "spark.sql(f\"\"\"\n",
    "ALTER TABLE {MY_CATALOG}.{MY_SCHEMA}.employees\n",
    "ALTER COLUMN salary SET TAGS ('my_tags' = 'salary')\n",
    "\"\"\")"
   ]
  },
  {
   "cell_type": "code",
   "execution_count": 0,
   "metadata": {
    "application/vnd.databricks.v1+cell": {
     "cellMetadata": {
      "byteLimit": 2048000,
      "rowLimit": 10000
     },
     "inputWidgets": {},
     "nuid": "3fc23f4d-8f3e-4703-8ca9-beed99388ff7",
     "showTitle": true,
     "tableResultSettingsMap": {},
     "title": "region"
    }
   },
   "outputs": [],
   "source": [
    "# 'region' 列にアクセス制限タグを設定\n",
    "spark.sql(f\"\"\"\n",
    "ALTER TABLE {MY_CATALOG}.{MY_SCHEMA}.employees\n",
    "ALTER COLUMN region SET TAGS ('my_tags' = 'region_apac')\n",
    "\"\"\")"
   ]
  },
  {
   "cell_type": "markdown",
   "metadata": {
    "application/vnd.databricks.v1+cell": {
     "cellMetadata": {
      "byteLimit": 2048000,
      "rowLimit": 10000
     },
     "inputWidgets": {},
     "nuid": "e2e06c77-9f87-4377-bb40-784f99ea6b2a",
     "showTitle": false,
     "tableResultSettingsMap": {},
     "title": ""
    }
   },
   "source": [
    "### 4. 列マスキングポリシーで使用するUDFの作成\n",
    "個人情報をマスクするロジックは事前に関数としてUC登録しておく必要があります。"
   ]
  },
  {
   "cell_type": "code",
   "execution_count": 0,
   "metadata": {
    "application/vnd.databricks.v1+cell": {
     "cellMetadata": {
      "byteLimit": 2048000,
      "rowLimit": 10000
     },
     "inputWidgets": {},
     "nuid": "477610a6-db9e-4c54-af4f-288807c426ab",
     "showTitle": true,
     "tableResultSettingsMap": {},
     "title": "mask email"
    }
   },
   "outputs": [],
   "source": [
    "spark.sql(f\"\"\"\n",
    "CREATE OR REPLACE FUNCTION {MY_CATALOG}.{MY_SCHEMA}.mask_email(email STRING)\n",
    "RETURNS STRING\n",
    "LANGUAGE PYTHON\n",
    "AS $$\n",
    "parts = email.split('@', 1)\n",
    "if len(parts) == 2:\n",
    "  username, domain = parts\n",
    "else:\n",
    "  return None\n",
    "masked_username = username[0] + '*' * (len(username) - 2) + username[-1]\n",
    "return masked_username + \"@\" + domain\n",
    "$$\n",
    "\"\"\")"
   ]
  },
  {
   "cell_type": "code",
   "execution_count": 0,
   "metadata": {
    "application/vnd.databricks.v1+cell": {
     "cellMetadata": {
      "byteLimit": 2048000,
      "rowLimit": 10000
     },
     "inputWidgets": {},
     "nuid": "57533505-4a29-44a6-8821-920fdd13e3e9",
     "showTitle": false,
     "tableResultSettingsMap": {},
     "title": ""
    }
   },
   "outputs": [],
   "source": [
    "# spark.sql(f\"\"\"\n",
    "# DROP FUNCTION IF EXISTS {MY_CATALOG}.{MY_SCHEMA}.mask_email\n",
    "# \"\"\")"
   ]
  },
  {
   "cell_type": "code",
   "execution_count": 0,
   "metadata": {
    "application/vnd.databricks.v1+cell": {
     "cellMetadata": {
      "byteLimit": 2048000,
      "rowLimit": 10000
     },
     "inputWidgets": {},
     "nuid": "e0a94fa2-2074-4c0d-b18e-935eb43bc239",
     "showTitle": true,
     "tableResultSettingsMap": {},
     "title": "mask salary"
    }
   },
   "outputs": [],
   "source": [
    "spark.sql(f\"\"\"\n",
    "CREATE OR REPLACE FUNCTION {MY_CATALOG}.{MY_SCHEMA}.mask_salary(val DOUBLE)\n",
    "RETURNS DOUBLE\n",
    "LANGUAGE PYTHON\n",
    "AS $$\n",
    "return -99.99\n",
    "$$\n",
    "\"\"\")"
   ]
  },
  {
   "cell_type": "code",
   "execution_count": 0,
   "metadata": {
    "application/vnd.databricks.v1+cell": {
     "cellMetadata": {
      "byteLimit": 2048000,
      "rowLimit": 10000
     },
     "inputWidgets": {},
     "nuid": "c5cfd42f-c757-471e-ba42-ce481424863d",
     "showTitle": false,
     "tableResultSettingsMap": {},
     "title": ""
    }
   },
   "outputs": [],
   "source": [
    "# spark.sql(f\"\"\"\n",
    "# DROP FUNCTION IF EXISTS {MY_CATALOG}.{MY_SCHEMA}.mask_salary\n",
    "# \"\"\")"
   ]
  },
  {
   "cell_type": "markdown",
   "metadata": {
    "application/vnd.databricks.v1+cell": {
     "cellMetadata": {
      "byteLimit": 2048000,
      "rowLimit": 10000
     },
     "inputWidgets": {},
     "nuid": "abe589a5-117a-4ee6-85f0-95fb6ac3536d",
     "showTitle": false,
     "tableResultSettingsMap": {},
     "title": ""
    }
   },
   "source": [
    "### 5. 行フィルターポリシーで使用するUDFの作成"
   ]
  },
  {
   "cell_type": "code",
   "execution_count": 0,
   "metadata": {
    "application/vnd.databricks.v1+cell": {
     "cellMetadata": {
      "byteLimit": 2048000,
      "rowLimit": 10000
     },
     "inputWidgets": {},
     "nuid": "6700a931-b70d-4145-9594-626b856e5cb7",
     "showTitle": true,
     "tableResultSettingsMap": {},
     "title": "filter apac"
    }
   },
   "outputs": [],
   "source": [
    "spark.sql(f\"\"\"\n",
    "CREATE OR REPLACE FUNCTION {MY_CATALOG}.{MY_SCHEMA}.is_apac_region(employee_region STRING)\n",
    "RETURNS BOOLEAN\n",
    "RETURN (\n",
    "    SELECT CASE\n",
    "        WHEN employee_region = 'APAC' THEN TRUE\n",
    "        ELSE FALSE\n",
    "    END\n",
    ")\n",
    "\"\"\")"
   ]
  },
  {
   "cell_type": "code",
   "execution_count": 0,
   "metadata": {
    "application/vnd.databricks.v1+cell": {
     "cellMetadata": {
      "byteLimit": 2048000,
      "rowLimit": 10000
     },
     "inputWidgets": {},
     "nuid": "86b43b15-b2ba-46eb-9ad6-84057d668329",
     "showTitle": false,
     "tableResultSettingsMap": {},
     "title": ""
    }
   },
   "outputs": [],
   "source": [
    "# spark.sql(f\"\"\"\n",
    "# DROP FUNCTION IF EXISTS {MY_CATALOG}.{MY_SCHEMA}.is_apac_region\n",
    "# \"\"\")"
   ]
  },
  {
   "cell_type": "markdown",
   "metadata": {
    "application/vnd.databricks.v1+cell": {
     "cellMetadata": {
      "byteLimit": 2048000,
      "rowLimit": 10000
     },
     "inputWidgets": {},
     "nuid": "46a77c9a-1567-4055-a77d-ce0fa1f34372",
     "showTitle": false,
     "tableResultSettingsMap": {},
     "title": ""
    }
   },
   "source": [
    "### 6. カタログエクスプローラーでのポリシー設定\n",
    "カタログ -> ポリシー\n",
    "\n",
    "<img src='https://github.com/komae5519pv/databricks_quick_demo/blob/main/20250912_quick_abac/images/%E3%83%9B%E3%82%9A%E3%83%AA%E3%82%B7%E3%83%BC%E8%A8%AD%E5%AE%9A.gif?raw=true' width='88%'/>\n"
   ]
  }
 ],
 "metadata": {
  "application/vnd.databricks.v1+notebook": {
   "computePreferences": {
    "hardware": {
     "accelerator": null,
     "gpuPoolId": null,
     "memory": null
    }
   },
   "dashboards": [],
   "environmentMetadata": {
    "base_environment": "",
    "environment_version": "3"
   },
   "inputWidgetPreferences": null,
   "language": "python",
   "notebookMetadata": {
    "mostRecentlyExecutedCommandWithImplicitDF": {
     "commandId": 8479387074282753,
     "dataframes": [
      "_sqldf"
     ]
    },
    "pythonIndentUnit": 2
   },
   "notebookName": "03_quick_ABAC",
   "widgets": {}
  },
  "language_info": {
   "name": "python"
  }
 },
 "nbformat": 4,
 "nbformat_minor": 0
}
