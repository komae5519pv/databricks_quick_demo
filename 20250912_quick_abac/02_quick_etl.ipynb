{
 "cells": [
  {
   "cell_type": "markdown",
   "metadata": {
    "application/vnd.databricks.v1+cell": {
     "cellMetadata": {
      "byteLimit": 2048000,
      "rowLimit": 10000
     },
     "inputWidgets": {},
     "nuid": "a385c257-523e-4763-b4f7-10e55834302e",
     "showTitle": false,
     "tableResultSettingsMap": {},
     "title": ""
    }
   },
   "source": [
    "サーバレスコンピュートをお使いください"
   ]
  },
  {
   "cell_type": "code",
   "execution_count": 0,
   "metadata": {
    "application/vnd.databricks.v1+cell": {
     "cellMetadata": {
      "byteLimit": 2048000,
      "rowLimit": 10000
     },
     "inputWidgets": {},
     "nuid": "c3bde525-c5cb-4dd7-ab1c-05b907e2ba92",
     "showTitle": false,
     "tableResultSettingsMap": {},
     "title": ""
    }
   },
   "outputs": [],
   "source": [
    "%run ./00_config"
   ]
  },
  {
   "cell_type": "markdown",
   "metadata": {
    "application/vnd.databricks.v1+cell": {
     "cellMetadata": {
      "byteLimit": 2048000,
      "rowLimit": 10000
     },
     "inputWidgets": {},
     "nuid": "27c4acfd-6d52-47e6-afcf-dfaeafc94032",
     "showTitle": false,
     "tableResultSettingsMap": {},
     "title": ""
    }
   },
   "source": [
    "`/Volumes/{MY_CATALOG}/{MY_SCHEMA}/{MY_VOLUME}/daily_weather_tokyo.csv`からread_filesを利用してcsvを読み込んで表示する。ただし、_rescued_dataは除外する。一行目は列名。"
   ]
  },
  {
   "cell_type": "code",
   "execution_count": 0,
   "metadata": {
    "application/vnd.databricks.v1+cell": {
     "cellMetadata": {
      "byteLimit": 2048000,
      "rowLimit": 10000
     },
     "inputWidgets": {},
     "nuid": "09f7b159-d1e1-4de5-8b8f-9a051d8b4632",
     "showTitle": false,
     "tableResultSettingsMap": {},
     "title": ""
    }
   },
   "outputs": [],
   "source": [
    "spark.sql(f\"\"\"\n",
    "SELECT *\n",
    "EXCEPT (_rescued_data)\n",
    "FROM read_files(\n",
    "  '/Volumes/{MY_CATALOG}/{MY_SCHEMA}/{MY_VOLUME}/daily_weather_tokyo.csv',\n",
    "  format => 'csv',\n",
    "  header => 'true'\n",
    ")\n",
    ";\n",
    "\"\"\")"
   ]
  },
  {
   "cell_type": "markdown",
   "metadata": {
    "application/vnd.databricks.v1+cell": {
     "cellMetadata": {
      "byteLimit": 2048000,
      "rowLimit": 10000
     },
     "inputWidgets": {},
     "nuid": "a45aef48-2d5b-4566-9640-46ff9396b60c",
     "showTitle": false,
     "tableResultSettingsMap": {},
     "title": ""
    }
   },
   "source": [
    "上記をbronzeとして保存する"
   ]
  },
  {
   "cell_type": "code",
   "execution_count": 0,
   "metadata": {
    "application/vnd.databricks.v1+cell": {
     "cellMetadata": {
      "byteLimit": 2048000,
      "rowLimit": 10000
     },
     "inputWidgets": {},
     "nuid": "f4a75184-c39a-40c4-a928-705bc306a2de",
     "showTitle": false,
     "tableResultSettingsMap": {},
     "title": ""
    }
   },
   "outputs": [],
   "source": [
    "spark.sql(f\"\"\"\n",
    "CREATE OR REPLACE TABLE bronze_daily_weather_tokyo AS\n",
    "SELECT *\n",
    "EXCEPT (_rescued_data)\n",
    "FROM read_files(\n",
    "  '/Volumes/{MY_CATALOG}/{MY_SCHEMA}/{MY_VOLUME}/daily_weather_tokyo.csv',\n",
    "  format => 'csv',\n",
    "  header => 'true'\n",
    ");\n",
    "\"\"\")"
   ]
  },
  {
   "cell_type": "markdown",
   "metadata": {
    "application/vnd.databricks.v1+cell": {
     "cellMetadata": {
      "byteLimit": 2048000,
      "rowLimit": 10000
     },
     "inputWidgets": {},
     "nuid": "a1e8b077-0d2a-458c-932f-5c55bbc22d28",
     "showTitle": false,
     "tableResultSettingsMap": {},
     "title": ""
    }
   },
   "source": [
    "### Gold テーブルの作成\n",
    "次にGold テーブルを作成します。<br>\n",
    "Goldレイヤーでは、データの粒度を実際に分析する粒度に変換します。<br>\n",
    "今回は月毎の平均値を使うことにします。<br><br>\n",
    "※ 通常はSilverレイヤーで欠損値の処理などを行いますが、今回のハンズオンでは割愛します。"
   ]
  },
  {
   "cell_type": "markdown",
   "metadata": {
    "application/vnd.databricks.v1+cell": {
     "cellMetadata": {
      "byteLimit": 2048000,
      "rowLimit": 10000
     },
     "inputWidgets": {},
     "nuid": "3dcd3449-4a9f-444f-86f2-d64e9ceef67a",
     "showTitle": false,
     "tableResultSettingsMap": {},
     "title": ""
    }
   },
   "source": [
    "```\n",
    "bronze_daily_weather_tokyo を月毎に集計して。\n",
    "ave_tempは平均を、high_tempは最大値を、low_tempは最低値を求めて。小数点は二桁までにして。\n",
    "```"
   ]
  },
  {
   "cell_type": "code",
   "execution_count": 0,
   "metadata": {
    "application/vnd.databricks.v1+cell": {
     "cellMetadata": {
      "byteLimit": 2048000,
      "rowLimit": 10000
     },
     "inputWidgets": {},
     "nuid": "d29b389d-42f6-44cd-9a28-2ffec344b7a2",
     "showTitle": false,
     "tableResultSettingsMap": {},
     "title": ""
    }
   },
   "outputs": [],
   "source": [
    "spark.sql(f\"\"\"\n",
    "SELECT\n",
    "  date_format(date, 'yyyy-MM') AS month,\n",
    "  ROUND(AVG(ave_temp), 2) AS avg_ave_temp,\n",
    "  ROUND(MAX(high_temp), 2) AS max_high_temp,\n",
    "  ROUND(MIN(low_temp), 2) AS min_low_temp\n",
    "FROM bronze_daily_weather_tokyo\n",
    "GROUP BY date_format(date, 'yyyy-MM')\n",
    "ORDER BY month\n",
    ";\n",
    "\"\"\")"
   ]
  },
  {
   "cell_type": "markdown",
   "metadata": {
    "application/vnd.databricks.v1+cell": {
     "cellMetadata": {
      "byteLimit": 2048000,
      "rowLimit": 10000
     },
     "inputWidgets": {},
     "nuid": "0c678a18-7f68-49be-bb00-18d407c1434d",
     "showTitle": false,
     "tableResultSettingsMap": {},
     "title": ""
    }
   },
   "source": [
    "`上記をgoldテーブルとして保存して`"
   ]
  },
  {
   "cell_type": "code",
   "execution_count": 0,
   "metadata": {
    "application/vnd.databricks.v1+cell": {
     "cellMetadata": {
      "byteLimit": 2048000,
      "rowLimit": 10000
     },
     "inputWidgets": {},
     "nuid": "c81bc511-05bc-4af9-9ba1-e04a618ed6a5",
     "showTitle": false,
     "tableResultSettingsMap": {},
     "title": ""
    }
   },
   "outputs": [],
   "source": [
    "spark.sql(f\"\"\"\n",
    "CREATE OR REPLACE TABLE gold_monthly_weather_tokyo AS\n",
    "SELECT\n",
    "  date_format(date, 'yyyy-MM') AS month,\n",
    "  ROUND(AVG(ave_temp), 2) AS avg_ave_temp,\n",
    "  ROUND(MAX(high_temp), 2) AS max_high_temp,\n",
    "  ROUND(MIN(low_temp), 2) AS min_low_temp\n",
    "FROM bronze_daily_weather_tokyo\n",
    "GROUP BY date_format(date, 'yyyy-MM')\n",
    "ORDER BY month\n",
    ";\n",
    "\"\"\")"
   ]
  }
 ],
 "metadata": {
  "application/vnd.databricks.v1+notebook": {
   "computePreferences": {
    "hardware": {
     "accelerator": null,
     "gpuPoolId": null,
     "memory": null
    }
   },
   "dashboards": [],
   "environmentMetadata": {
    "base_environment": "",
    "environment_version": "2"
   },
   "inputWidgetPreferences": null,
   "language": "python",
   "notebookMetadata": {
    "mostRecentlyExecutedCommandWithImplicitDF": {
     "commandId": 8479387074279231,
     "dataframes": [
      "_sqldf"
     ]
    },
    "pythonIndentUnit": 2
   },
   "notebookName": "02_quick_etl",
   "widgets": {}
  },
  "language_info": {
   "name": "python"
  }
 },
 "nbformat": 4,
 "nbformat_minor": 0
}
