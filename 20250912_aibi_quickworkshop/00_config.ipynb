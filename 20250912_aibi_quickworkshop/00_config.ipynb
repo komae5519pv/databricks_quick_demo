{
 "cells": [
  {
   "cell_type": "code",
   "execution_count": 0,
   "metadata": {
    "application/vnd.databricks.v1+cell": {
     "cellMetadata": {},
     "inputWidgets": {},
     "nuid": "3b59b349-0b38-4e9f-a906-6defc24d8071",
     "showTitle": true,
     "tableResultSettingsMap": {},
     "title": "初期設定"
    }
   },
   "outputs": [],
   "source": [
    "# カタログ情報\n",
    "catalog = \"あなたのカタログ名\"              # ご自分のカタログ名に変更してください\n",
    "schema = \"bricksmart\"\n",
    "volume = \"csv\""
   ]
  },
  {
   "cell_type": "code",
   "execution_count": 0,
   "metadata": {
    "application/vnd.databricks.v1+cell": {
     "cellMetadata": {},
     "inputWidgets": {},
     "nuid": "3e34c809-0217-492c-9f32-359979648757",
     "showTitle": false,
     "tableResultSettingsMap": {},
     "title": ""
    }
   },
   "outputs": [],
   "source": [
    "# カタログ、スキーマ、ボリューム作成\n",
    "spark.sql(f\"CREATE CATALOG IF NOT EXISTS {catalog};\")\n",
    "spark.sql(f\"CREATE SCHEMA IF NOT EXISTS {catalog}.{schema};\")\n",
    "spark.sql(f\"CREATE VOLUME IF NOT EXISTS {catalog}.{schema}.{volume}\")\n",
    "\n",
    "# 使うカタログ、スキーマを指定\n",
    "spark.sql(f\"USE CATALOG {catalog};\")\n",
    "spark.sql(f\"USE SCHEMA {schema};\")\n",
    "\n",
    "# 設定内容を表示\n",
    "print(f\"catalog: {catalog}\")\n",
    "print(f\"schema: {schema}\")\n",
    "print(f\"volume パス: /Volumes/{catalog}/{schema}/{volume}\")"
   ]
  }
 ],
 "metadata": {
  "application/vnd.databricks.v1+notebook": {
   "computePreferences": null,
   "dashboards": [],
   "environmentMetadata": {
    "base_environment": "",
    "environment_version": "3"
   },
   "inputWidgetPreferences": null,
   "language": "python",
   "notebookMetadata": {
    "pythonIndentUnit": 4
   },
   "notebookName": "00_config",
   "widgets": {}
  },
  "language_info": {
   "name": "python"
  }
 },
 "nbformat": 4,
 "nbformat_minor": 0
}
